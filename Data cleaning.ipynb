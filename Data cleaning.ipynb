{
 "cells": [
  {
   "cell_type": "code",
   "execution_count": 1,
   "id": "1ef75400-9b53-42d8-b741-0ab202f48637",
   "metadata": {},
   "outputs": [],
   "source": [
    "# Import nessesary libraries\n",
    "import pandas as pd\n",
    "import numpy as np"
   ]
  },
  {
   "cell_type": "markdown",
   "id": "dc5d0a14-bbd3-4247-8c60-87bda0066afa",
   "metadata": {},
   "source": [
    "### Read CSV File"
   ]
  },
  {
   "cell_type": "markdown",
   "id": "c4c6c9c6-1601-428f-bcab-213b73edf9bf",
   "metadata": {},
   "source": [
    "Link dataset: https://www.kaggle.com/datasets/aiaiaidavid/the-big-dataset-of-ultra-marathon-running/discussion/420633"
   ]
  },
  {
   "cell_type": "code",
   "execution_count": 4,
   "id": "e4357ae4-dfbc-4f8d-b071-78ec256f9d23",
   "metadata": {},
   "outputs": [
    {
     "data": {
      "text/html": [
       "<div>\n",
       "<style scoped>\n",
       "    .dataframe tbody tr th:only-of-type {\n",
       "        vertical-align: middle;\n",
       "    }\n",
       "\n",
       "    .dataframe tbody tr th {\n",
       "        vertical-align: top;\n",
       "    }\n",
       "\n",
       "    .dataframe thead th {\n",
       "        text-align: right;\n",
       "    }\n",
       "</style>\n",
       "<table border=\"1\" class=\"dataframe\">\n",
       "  <thead>\n",
       "    <tr style=\"text-align: right;\">\n",
       "      <th></th>\n",
       "      <th>Year of event</th>\n",
       "      <th>Event dates</th>\n",
       "      <th>Event name</th>\n",
       "      <th>Event distance/length</th>\n",
       "      <th>Event number of finishers</th>\n",
       "      <th>Athlete performance</th>\n",
       "      <th>Athlete club</th>\n",
       "      <th>Athlete country</th>\n",
       "      <th>Athlete year of birth</th>\n",
       "      <th>Athlete gender</th>\n",
       "      <th>Athlete age category</th>\n",
       "      <th>Athlete average speed</th>\n",
       "      <th>Athlete ID</th>\n",
       "    </tr>\n",
       "  </thead>\n",
       "  <tbody>\n",
       "    <tr>\n",
       "      <th>0</th>\n",
       "      <td>2018</td>\n",
       "      <td>06.01.2018</td>\n",
       "      <td>Selva Costera (CHI)</td>\n",
       "      <td>50km</td>\n",
       "      <td>22</td>\n",
       "      <td>4:51:39 h</td>\n",
       "      <td>Tnfrc</td>\n",
       "      <td>CHI</td>\n",
       "      <td>1978.0</td>\n",
       "      <td>M</td>\n",
       "      <td>M35</td>\n",
       "      <td>10.286</td>\n",
       "      <td>0</td>\n",
       "    </tr>\n",
       "    <tr>\n",
       "      <th>1</th>\n",
       "      <td>2018</td>\n",
       "      <td>06.01.2018</td>\n",
       "      <td>Selva Costera (CHI)</td>\n",
       "      <td>50km</td>\n",
       "      <td>22</td>\n",
       "      <td>5:15:45 h</td>\n",
       "      <td>Roberto Echeverría</td>\n",
       "      <td>CHI</td>\n",
       "      <td>1981.0</td>\n",
       "      <td>M</td>\n",
       "      <td>M35</td>\n",
       "      <td>9.501</td>\n",
       "      <td>1</td>\n",
       "    </tr>\n",
       "    <tr>\n",
       "      <th>2</th>\n",
       "      <td>2018</td>\n",
       "      <td>06.01.2018</td>\n",
       "      <td>Selva Costera (CHI)</td>\n",
       "      <td>50km</td>\n",
       "      <td>22</td>\n",
       "      <td>5:16:44 h</td>\n",
       "      <td>Puro Trail Osorno</td>\n",
       "      <td>CHI</td>\n",
       "      <td>1987.0</td>\n",
       "      <td>M</td>\n",
       "      <td>M23</td>\n",
       "      <td>9.472</td>\n",
       "      <td>2</td>\n",
       "    </tr>\n",
       "    <tr>\n",
       "      <th>3</th>\n",
       "      <td>2018</td>\n",
       "      <td>06.01.2018</td>\n",
       "      <td>Selva Costera (CHI)</td>\n",
       "      <td>50km</td>\n",
       "      <td>22</td>\n",
       "      <td>5:34:13 h</td>\n",
       "      <td>Columbia</td>\n",
       "      <td>ARG</td>\n",
       "      <td>1976.0</td>\n",
       "      <td>M</td>\n",
       "      <td>M40</td>\n",
       "      <td>8.976</td>\n",
       "      <td>3</td>\n",
       "    </tr>\n",
       "    <tr>\n",
       "      <th>4</th>\n",
       "      <td>2018</td>\n",
       "      <td>06.01.2018</td>\n",
       "      <td>Selva Costera (CHI)</td>\n",
       "      <td>50km</td>\n",
       "      <td>22</td>\n",
       "      <td>5:54:14 h</td>\n",
       "      <td>Baguales Trail</td>\n",
       "      <td>CHI</td>\n",
       "      <td>1992.0</td>\n",
       "      <td>M</td>\n",
       "      <td>M23</td>\n",
       "      <td>8.469</td>\n",
       "      <td>4</td>\n",
       "    </tr>\n",
       "  </tbody>\n",
       "</table>\n",
       "</div>"
      ],
      "text/plain": [
       "   Year of event Event dates           Event name Event distance/length  \\\n",
       "0           2018  06.01.2018  Selva Costera (CHI)                  50km   \n",
       "1           2018  06.01.2018  Selva Costera (CHI)                  50km   \n",
       "2           2018  06.01.2018  Selva Costera (CHI)                  50km   \n",
       "3           2018  06.01.2018  Selva Costera (CHI)                  50km   \n",
       "4           2018  06.01.2018  Selva Costera (CHI)                  50km   \n",
       "\n",
       "   Event number of finishers Athlete performance        Athlete club  \\\n",
       "0                         22           4:51:39 h               Tnfrc   \n",
       "1                         22           5:15:45 h  Roberto Echeverría   \n",
       "2                         22           5:16:44 h   Puro Trail Osorno   \n",
       "3                         22           5:34:13 h            Columbia   \n",
       "4                         22           5:54:14 h      Baguales Trail   \n",
       "\n",
       "  Athlete country  Athlete year of birth Athlete gender Athlete age category  \\\n",
       "0             CHI                 1978.0              M                  M35   \n",
       "1             CHI                 1981.0              M                  M35   \n",
       "2             CHI                 1987.0              M                  M23   \n",
       "3             ARG                 1976.0              M                  M40   \n",
       "4             CHI                 1992.0              M                  M23   \n",
       "\n",
       "  Athlete average speed  Athlete ID  \n",
       "0                10.286           0  \n",
       "1                 9.501           1  \n",
       "2                 9.472           2  \n",
       "3                 8.976           3  \n",
       "4                 8.469           4  "
      ]
     },
     "execution_count": 4,
     "metadata": {},
     "output_type": "execute_result"
    }
   ],
   "source": [
    "df = pd.read_csv('race records.csv',low_memory=False)\n",
    "df.head()"
   ]
  },
  {
   "cell_type": "code",
   "execution_count": 5,
   "id": "bf8af26c-88ce-4809-bf43-9af8cd28e2ec",
   "metadata": {},
   "outputs": [
    {
     "data": {
      "text/plain": [
       "(7461195, 13)"
      ]
     },
     "execution_count": 5,
     "metadata": {},
     "output_type": "execute_result"
    }
   ],
   "source": [
    "df.shape"
   ]
  },
  {
   "cell_type": "markdown",
   "id": "f5e71033-4118-4c6a-9bd6-ed70eabb7e68",
   "metadata": {},
   "source": [
    "### Drop unnecessary column"
   ]
  },
  {
   "cell_type": "code",
   "execution_count": 7,
   "id": "e2cf37f2-a01b-47f4-8db2-3256c2a302c8",
   "metadata": {},
   "outputs": [
    {
     "data": {
      "text/plain": [
       "(7461195, 11)"
      ]
     },
     "execution_count": 7,
     "metadata": {},
     "output_type": "execute_result"
    }
   ],
   "source": [
    "df.drop(['Athlete club','Athlete age category'],axis=1,inplace =True)\n",
    "df.shape"
   ]
  },
  {
   "cell_type": "markdown",
   "id": "674f3388-134f-4576-a17b-8899980765c7",
   "metadata": {},
   "source": [
    "### Drop rows with missing values"
   ]
  },
  {
   "cell_type": "code",
   "execution_count": 9,
   "id": "0fbbb137-9ebe-4766-8321-537aaef41c30",
   "metadata": {},
   "outputs": [
    {
     "data": {
      "text/plain": [
       "Year of event                     0\n",
       "Event dates                       0\n",
       "Event name                        0\n",
       "Event distance/length          1053\n",
       "Event number of finishers         0\n",
       "Athlete performance               2\n",
       "Athlete country                   3\n",
       "Athlete year of birth        588161\n",
       "Athlete gender                    7\n",
       "Athlete average speed           224\n",
       "Athlete ID                        0\n",
       "dtype: int64"
      ]
     },
     "execution_count": 9,
     "metadata": {},
     "output_type": "execute_result"
    }
   ],
   "source": [
    "df.isna().sum()"
   ]
  },
  {
   "cell_type": "code",
   "execution_count": 10,
   "id": "e3265263-c0cc-4b8c-b5eb-c64646206eaf",
   "metadata": {},
   "outputs": [],
   "source": [
    "drop_fields = ['Event distance/length','Athlete performance','Athlete country',\n",
    "              'Athlete year of birth','Athlete gender','Athlete average speed']\n",
    "df = df.dropna(subset=drop_fields)"
   ]
  },
  {
   "cell_type": "code",
   "execution_count": 11,
   "id": "4eb6a6f4-a4d0-4bd7-af8b-8ae8036845d4",
   "metadata": {},
   "outputs": [
    {
     "data": {
      "text/plain": [
       "Year of event                0\n",
       "Event dates                  0\n",
       "Event name                   0\n",
       "Event distance/length        0\n",
       "Event number of finishers    0\n",
       "Athlete performance          0\n",
       "Athlete country              0\n",
       "Athlete year of birth        0\n",
       "Athlete gender               0\n",
       "Athlete average speed        0\n",
       "Athlete ID                   0\n",
       "dtype: int64"
      ]
     },
     "execution_count": 11,
     "metadata": {},
     "output_type": "execute_result"
    }
   ],
   "source": [
    "df.isna().sum()"
   ]
  },
  {
   "cell_type": "code",
   "execution_count": 12,
   "id": "b9ef78b8-d8b1-4119-b0e8-a7dac1d80e4d",
   "metadata": {},
   "outputs": [
    {
     "data": {
      "text/plain": [
       "(6871843, 11)"
      ]
     },
     "execution_count": 12,
     "metadata": {},
     "output_type": "execute_result"
    }
   ],
   "source": [
    "df.shape"
   ]
  },
  {
   "cell_type": "markdown",
   "id": "223621a1-e271-4d2a-9ab1-6ec0cf3461ee",
   "metadata": {},
   "source": [
    "### Filtering rows with years >= 1900"
   ]
  },
  {
   "cell_type": "code",
   "execution_count": 14,
   "id": "3e111f6e-9934-4d76-8e9f-c94d81992695",
   "metadata": {},
   "outputs": [
    {
     "data": {
      "text/plain": [
       "array([1807, 1837, 1861, 1863, 1870, 1874, 1875, 1876, 1877, 1878, 1879,\n",
       "       1880, 1881, 1882, 1884, 1885, 1887, 1888, 1889, 1891, 1892, 1893,\n",
       "       1894, 1895, 1896, 1897, 1899, 1900, 1902, 1903, 1904, 1906, 1907,\n",
       "       1908, 1909, 1910, 1911, 1913, 1914, 1921, 1922, 1923, 1924, 1925,\n",
       "       1926, 1927, 1928, 1929, 1930, 1931, 1932, 1933, 1934, 1935, 1936,\n",
       "       1937, 1938, 1939, 1940, 1944, 1945, 1946, 1947, 1948, 1949, 1950,\n",
       "       1951, 1952, 1953, 1954, 1955, 1956, 1957, 1958, 1959, 1960, 1961,\n",
       "       1962, 1963, 1964, 1965, 1966, 1967, 1968, 1969, 1970, 1971, 1972,\n",
       "       1973, 1974, 1975, 1976, 1977, 1978, 1979, 1980, 1981, 1982, 1983,\n",
       "       1984, 1985, 1986, 1987, 1988, 1989, 1990, 1991, 1992, 1993, 1994,\n",
       "       1995, 1996, 1997, 1998, 1999, 2000, 2001, 2002, 2003, 2004, 2005,\n",
       "       2006, 2007, 2008, 2009, 2010, 2011, 2012, 2013, 2014, 2015, 2016,\n",
       "       2017, 2018, 2019, 2020, 2021, 2022], dtype=int64)"
      ]
     },
     "execution_count": 14,
     "metadata": {},
     "output_type": "execute_result"
    }
   ],
   "source": [
    "year = np.sort(df['Year of event'].unique())\n",
    "year"
   ]
  },
  {
   "cell_type": "code",
   "execution_count": 15,
   "id": "68f29cb8-ebbb-4746-9400-6090999a2ce2",
   "metadata": {},
   "outputs": [],
   "source": [
    "df = df.loc[df['Year of event'] >= 1900]"
   ]
  },
  {
   "cell_type": "code",
   "execution_count": 16,
   "id": "f2528000-7e17-419b-90f2-a10de1dc5441",
   "metadata": {},
   "outputs": [
    {
     "data": {
      "text/plain": [
       "(6871322, 11)"
      ]
     },
     "execution_count": 16,
     "metadata": {},
     "output_type": "execute_result"
    }
   ],
   "source": [
    "df.shape"
   ]
  },
  {
   "cell_type": "code",
   "execution_count": 17,
   "id": "201c6208-66e3-4abf-b76c-6d289208a5de",
   "metadata": {},
   "outputs": [
    {
     "data": {
      "text/plain": [
       "array([1900, 1902, 1903, 1904, 1906, 1907, 1908, 1909, 1910, 1911, 1913,\n",
       "       1914, 1921, 1922, 1923, 1924, 1925, 1926, 1927, 1928, 1929, 1930,\n",
       "       1931, 1932, 1933, 1934, 1935, 1936, 1937, 1938, 1939, 1940, 1944,\n",
       "       1945, 1946, 1947, 1948, 1949, 1950, 1951, 1952, 1953, 1954, 1955,\n",
       "       1956, 1957, 1958, 1959, 1960, 1961, 1962, 1963, 1964, 1965, 1966,\n",
       "       1967, 1968, 1969, 1970, 1971, 1972, 1973, 1974, 1975, 1976, 1977,\n",
       "       1978, 1979, 1980, 1981, 1982, 1983, 1984, 1985, 1986, 1987, 1988,\n",
       "       1989, 1990, 1991, 1992, 1993, 1994, 1995, 1996, 1997, 1998, 1999,\n",
       "       2000, 2001, 2002, 2003, 2004, 2005, 2006, 2007, 2008, 2009, 2010,\n",
       "       2011, 2012, 2013, 2014, 2015, 2016, 2017, 2018, 2019, 2020, 2021,\n",
       "       2022], dtype=int64)"
      ]
     },
     "execution_count": 17,
     "metadata": {},
     "output_type": "execute_result"
    }
   ],
   "source": [
    "year = np.sort(df['Year of event'].unique())\n",
    "year"
   ]
  },
  {
   "cell_type": "markdown",
   "id": "ed0afb29-f9ff-40fa-af71-67442c592d07",
   "metadata": {},
   "source": [
    "### Drop duplicated rows"
   ]
  },
  {
   "cell_type": "code",
   "execution_count": 19,
   "id": "457897a0-e47d-442c-8449-86b41dcdba0a",
   "metadata": {},
   "outputs": [],
   "source": [
    "df.drop_duplicates(keep=\"first\",inplace= True)"
   ]
  },
  {
   "cell_type": "code",
   "execution_count": 20,
   "id": "adb10b66-6cce-43a1-9333-f95c1fbfe05b",
   "metadata": {},
   "outputs": [
    {
     "data": {
      "text/plain": [
       "(6871289, 11)"
      ]
     },
     "execution_count": 20,
     "metadata": {},
     "output_type": "execute_result"
    }
   ],
   "source": [
    "df.shape"
   ]
  },
  {
   "cell_type": "markdown",
   "id": "7ec5d7c2-991b-4f2e-931e-8ba7abef170d",
   "metadata": {},
   "source": [
    "### Date Conversion"
   ]
  },
  {
   "cell_type": "code",
   "execution_count": 22,
   "id": "2746e397-820e-444c-aafa-484f68584f39",
   "metadata": {},
   "outputs": [],
   "source": [
    "df['Event dates'] = df['Event dates'].replace({'05.-07.01.2018': '07.01.2018'}, regex=True)\n",
    "\n",
    "# Chuyển đổi cột 'Event dates' từ định dạng DD.MM.YYYY thành kiểu datetime\n",
    "df['Event dates'] = pd.to_datetime(df['Event dates'], format='%d.%m.%Y', errors='coerce')\n",
    "df = df.dropna(subset='Event dates')"
   ]
  },
  {
   "cell_type": "code",
   "execution_count": 23,
   "id": "e766105e-9401-480c-8bce-2c1ae0b1189d",
   "metadata": {},
   "outputs": [
    {
     "data": {
      "text/html": [
       "<div>\n",
       "<style scoped>\n",
       "    .dataframe tbody tr th:only-of-type {\n",
       "        vertical-align: middle;\n",
       "    }\n",
       "\n",
       "    .dataframe tbody tr th {\n",
       "        vertical-align: top;\n",
       "    }\n",
       "\n",
       "    .dataframe thead th {\n",
       "        text-align: right;\n",
       "    }\n",
       "</style>\n",
       "<table border=\"1\" class=\"dataframe\">\n",
       "  <thead>\n",
       "    <tr style=\"text-align: right;\">\n",
       "      <th></th>\n",
       "      <th>Year of event</th>\n",
       "      <th>Event dates</th>\n",
       "      <th>Event name</th>\n",
       "      <th>Event distance/length</th>\n",
       "      <th>Event number of finishers</th>\n",
       "      <th>Athlete performance</th>\n",
       "      <th>Athlete country</th>\n",
       "      <th>Athlete year of birth</th>\n",
       "      <th>Athlete gender</th>\n",
       "      <th>Athlete average speed</th>\n",
       "      <th>Athlete ID</th>\n",
       "    </tr>\n",
       "  </thead>\n",
       "  <tbody>\n",
       "    <tr>\n",
       "      <th>0</th>\n",
       "      <td>2018</td>\n",
       "      <td>2018-01-06</td>\n",
       "      <td>Selva Costera (CHI)</td>\n",
       "      <td>50km</td>\n",
       "      <td>22</td>\n",
       "      <td>4:51:39 h</td>\n",
       "      <td>CHI</td>\n",
       "      <td>1978.0</td>\n",
       "      <td>M</td>\n",
       "      <td>10.286</td>\n",
       "      <td>0</td>\n",
       "    </tr>\n",
       "    <tr>\n",
       "      <th>1</th>\n",
       "      <td>2018</td>\n",
       "      <td>2018-01-06</td>\n",
       "      <td>Selva Costera (CHI)</td>\n",
       "      <td>50km</td>\n",
       "      <td>22</td>\n",
       "      <td>5:15:45 h</td>\n",
       "      <td>CHI</td>\n",
       "      <td>1981.0</td>\n",
       "      <td>M</td>\n",
       "      <td>9.501</td>\n",
       "      <td>1</td>\n",
       "    </tr>\n",
       "    <tr>\n",
       "      <th>2</th>\n",
       "      <td>2018</td>\n",
       "      <td>2018-01-06</td>\n",
       "      <td>Selva Costera (CHI)</td>\n",
       "      <td>50km</td>\n",
       "      <td>22</td>\n",
       "      <td>5:16:44 h</td>\n",
       "      <td>CHI</td>\n",
       "      <td>1987.0</td>\n",
       "      <td>M</td>\n",
       "      <td>9.472</td>\n",
       "      <td>2</td>\n",
       "    </tr>\n",
       "    <tr>\n",
       "      <th>3</th>\n",
       "      <td>2018</td>\n",
       "      <td>2018-01-06</td>\n",
       "      <td>Selva Costera (CHI)</td>\n",
       "      <td>50km</td>\n",
       "      <td>22</td>\n",
       "      <td>5:34:13 h</td>\n",
       "      <td>ARG</td>\n",
       "      <td>1976.0</td>\n",
       "      <td>M</td>\n",
       "      <td>8.976</td>\n",
       "      <td>3</td>\n",
       "    </tr>\n",
       "    <tr>\n",
       "      <th>4</th>\n",
       "      <td>2018</td>\n",
       "      <td>2018-01-06</td>\n",
       "      <td>Selva Costera (CHI)</td>\n",
       "      <td>50km</td>\n",
       "      <td>22</td>\n",
       "      <td>5:54:14 h</td>\n",
       "      <td>CHI</td>\n",
       "      <td>1992.0</td>\n",
       "      <td>M</td>\n",
       "      <td>8.469</td>\n",
       "      <td>4</td>\n",
       "    </tr>\n",
       "  </tbody>\n",
       "</table>\n",
       "</div>"
      ],
      "text/plain": [
       "   Year of event Event dates           Event name Event distance/length  \\\n",
       "0           2018  2018-01-06  Selva Costera (CHI)                  50km   \n",
       "1           2018  2018-01-06  Selva Costera (CHI)                  50km   \n",
       "2           2018  2018-01-06  Selva Costera (CHI)                  50km   \n",
       "3           2018  2018-01-06  Selva Costera (CHI)                  50km   \n",
       "4           2018  2018-01-06  Selva Costera (CHI)                  50km   \n",
       "\n",
       "   Event number of finishers Athlete performance Athlete country  \\\n",
       "0                         22           4:51:39 h             CHI   \n",
       "1                         22           5:15:45 h             CHI   \n",
       "2                         22           5:16:44 h             CHI   \n",
       "3                         22           5:34:13 h             ARG   \n",
       "4                         22           5:54:14 h             CHI   \n",
       "\n",
       "   Athlete year of birth Athlete gender Athlete average speed  Athlete ID  \n",
       "0                 1978.0              M                10.286           0  \n",
       "1                 1981.0              M                 9.501           1  \n",
       "2                 1987.0              M                 9.472           2  \n",
       "3                 1976.0              M                 8.976           3  \n",
       "4                 1992.0              M                 8.469           4  "
      ]
     },
     "execution_count": 23,
     "metadata": {},
     "output_type": "execute_result"
    }
   ],
   "source": [
    "df.head()"
   ]
  },
  {
   "cell_type": "markdown",
   "id": "ac9e1f26-b7b5-4e05-996b-3d7c9405b477",
   "metadata": {},
   "source": [
    "### Create a column named '*athlete_age*'"
   ]
  },
  {
   "cell_type": "code",
   "execution_count": 25,
   "id": "ec04c3a7-972e-4049-88a3-d87f0b5e0338",
   "metadata": {},
   "outputs": [],
   "source": [
    "df['athlete_age'] = df['Year of event'] - df['Athlete year of birth'].astype(int)\n",
    "df.drop(['Athlete year of birth'],axis=1,inplace =True)"
   ]
  },
  {
   "cell_type": "code",
   "execution_count": 26,
   "id": "ca297dba-a122-4098-8dc7-f0b30ffa1319",
   "metadata": {},
   "outputs": [
    {
     "data": {
      "text/html": [
       "<div>\n",
       "<style scoped>\n",
       "    .dataframe tbody tr th:only-of-type {\n",
       "        vertical-align: middle;\n",
       "    }\n",
       "\n",
       "    .dataframe tbody tr th {\n",
       "        vertical-align: top;\n",
       "    }\n",
       "\n",
       "    .dataframe thead th {\n",
       "        text-align: right;\n",
       "    }\n",
       "</style>\n",
       "<table border=\"1\" class=\"dataframe\">\n",
       "  <thead>\n",
       "    <tr style=\"text-align: right;\">\n",
       "      <th></th>\n",
       "      <th>Year of event</th>\n",
       "      <th>Event dates</th>\n",
       "      <th>Event name</th>\n",
       "      <th>Event distance/length</th>\n",
       "      <th>Event number of finishers</th>\n",
       "      <th>Athlete performance</th>\n",
       "      <th>Athlete country</th>\n",
       "      <th>Athlete gender</th>\n",
       "      <th>Athlete average speed</th>\n",
       "      <th>Athlete ID</th>\n",
       "      <th>athlete_age</th>\n",
       "    </tr>\n",
       "  </thead>\n",
       "  <tbody>\n",
       "    <tr>\n",
       "      <th>0</th>\n",
       "      <td>2018</td>\n",
       "      <td>2018-01-06</td>\n",
       "      <td>Selva Costera (CHI)</td>\n",
       "      <td>50km</td>\n",
       "      <td>22</td>\n",
       "      <td>4:51:39 h</td>\n",
       "      <td>CHI</td>\n",
       "      <td>M</td>\n",
       "      <td>10.286</td>\n",
       "      <td>0</td>\n",
       "      <td>40</td>\n",
       "    </tr>\n",
       "    <tr>\n",
       "      <th>1</th>\n",
       "      <td>2018</td>\n",
       "      <td>2018-01-06</td>\n",
       "      <td>Selva Costera (CHI)</td>\n",
       "      <td>50km</td>\n",
       "      <td>22</td>\n",
       "      <td>5:15:45 h</td>\n",
       "      <td>CHI</td>\n",
       "      <td>M</td>\n",
       "      <td>9.501</td>\n",
       "      <td>1</td>\n",
       "      <td>37</td>\n",
       "    </tr>\n",
       "    <tr>\n",
       "      <th>2</th>\n",
       "      <td>2018</td>\n",
       "      <td>2018-01-06</td>\n",
       "      <td>Selva Costera (CHI)</td>\n",
       "      <td>50km</td>\n",
       "      <td>22</td>\n",
       "      <td>5:16:44 h</td>\n",
       "      <td>CHI</td>\n",
       "      <td>M</td>\n",
       "      <td>9.472</td>\n",
       "      <td>2</td>\n",
       "      <td>31</td>\n",
       "    </tr>\n",
       "    <tr>\n",
       "      <th>3</th>\n",
       "      <td>2018</td>\n",
       "      <td>2018-01-06</td>\n",
       "      <td>Selva Costera (CHI)</td>\n",
       "      <td>50km</td>\n",
       "      <td>22</td>\n",
       "      <td>5:34:13 h</td>\n",
       "      <td>ARG</td>\n",
       "      <td>M</td>\n",
       "      <td>8.976</td>\n",
       "      <td>3</td>\n",
       "      <td>42</td>\n",
       "    </tr>\n",
       "    <tr>\n",
       "      <th>4</th>\n",
       "      <td>2018</td>\n",
       "      <td>2018-01-06</td>\n",
       "      <td>Selva Costera (CHI)</td>\n",
       "      <td>50km</td>\n",
       "      <td>22</td>\n",
       "      <td>5:54:14 h</td>\n",
       "      <td>CHI</td>\n",
       "      <td>M</td>\n",
       "      <td>8.469</td>\n",
       "      <td>4</td>\n",
       "      <td>26</td>\n",
       "    </tr>\n",
       "  </tbody>\n",
       "</table>\n",
       "</div>"
      ],
      "text/plain": [
       "   Year of event Event dates           Event name Event distance/length  \\\n",
       "0           2018  2018-01-06  Selva Costera (CHI)                  50km   \n",
       "1           2018  2018-01-06  Selva Costera (CHI)                  50km   \n",
       "2           2018  2018-01-06  Selva Costera (CHI)                  50km   \n",
       "3           2018  2018-01-06  Selva Costera (CHI)                  50km   \n",
       "4           2018  2018-01-06  Selva Costera (CHI)                  50km   \n",
       "\n",
       "   Event number of finishers Athlete performance Athlete country  \\\n",
       "0                         22           4:51:39 h             CHI   \n",
       "1                         22           5:15:45 h             CHI   \n",
       "2                         22           5:16:44 h             CHI   \n",
       "3                         22           5:34:13 h             ARG   \n",
       "4                         22           5:54:14 h             CHI   \n",
       "\n",
       "  Athlete gender Athlete average speed  Athlete ID  athlete_age  \n",
       "0              M                10.286           0           40  \n",
       "1              M                 9.501           1           37  \n",
       "2              M                 9.472           2           31  \n",
       "3              M                 8.976           3           42  \n",
       "4              M                 8.469           4           26  "
      ]
     },
     "execution_count": 26,
     "metadata": {},
     "output_type": "execute_result"
    }
   ],
   "source": [
    "df.head()"
   ]
  },
  {
   "cell_type": "markdown",
   "id": "53e7a203-70b5-475f-884c-be64c0715227",
   "metadata": {},
   "source": [
    "### Fix types"
   ]
  },
  {
   "cell_type": "code",
   "execution_count": 28,
   "id": "bc53edb5-ba2f-493f-8e12-c49ede15d626",
   "metadata": {},
   "outputs": [],
   "source": [
    "# Drop rows in col \"Athlete average speed\"\n",
    "time_pattern = r'\\d{2}:\\d{2}:\\d{2}'\n",
    "\n",
    "# Create a boolean column to mark the rows with time values\n",
    "df['is_time'] = df['Athlete average speed'].str.match(time_pattern)\n",
    "\n",
    "# Remove the rows containing time values.\n",
    "df = df[~df['is_time']].copy()\n",
    "\n",
    "# Drop col 'is_time' \n",
    "df.drop(columns=['is_time'], inplace=True)"
   ]
  },
  {
   "cell_type": "code",
   "execution_count": 29,
   "id": "a2418503-5a39-45fe-8419-6b4cb43c4838",
   "metadata": {},
   "outputs": [
    {
     "data": {
      "text/plain": [
       "Year of event                         int64\n",
       "Event dates                  datetime64[ns]\n",
       "Event name                           object\n",
       "Event distance/length                object\n",
       "Event number of finishers             int64\n",
       "Athlete performance                  object\n",
       "Athlete country                      object\n",
       "Athlete gender                       object\n",
       "Athlete average speed                object\n",
       "Athlete ID                            int64\n",
       "athlete_age                           int64\n",
       "dtype: object"
      ]
     },
     "execution_count": 29,
     "metadata": {},
     "output_type": "execute_result"
    }
   ],
   "source": [
    "df.dtypes"
   ]
  },
  {
   "cell_type": "code",
   "execution_count": 30,
   "id": "30f84031-3fb6-48d6-9028-01246d2b40a5",
   "metadata": {},
   "outputs": [],
   "source": [
    "df['Athlete average speed'] = df['Athlete average speed'].astype(float)"
   ]
  },
  {
   "cell_type": "code",
   "execution_count": 31,
   "id": "b5cae453-a88b-4921-bce0-6f3ccb5052e2",
   "metadata": {},
   "outputs": [
    {
     "data": {
      "text/plain": [
       "Year of event                         int64\n",
       "Event dates                  datetime64[ns]\n",
       "Event name                           object\n",
       "Event distance/length                object\n",
       "Event number of finishers             int64\n",
       "Athlete performance                  object\n",
       "Athlete country                      object\n",
       "Athlete gender                       object\n",
       "Athlete average speed               float64\n",
       "Athlete ID                            int64\n",
       "athlete_age                           int64\n",
       "dtype: object"
      ]
     },
     "execution_count": 31,
     "metadata": {},
     "output_type": "execute_result"
    }
   ],
   "source": [
    "df.dtypes"
   ]
  },
  {
   "cell_type": "code",
   "execution_count": 32,
   "id": "3ed4d165-1450-4e9c-a783-01fad9ff4b55",
   "metadata": {},
   "outputs": [
    {
     "data": {
      "text/plain": [
       "(5170645, 11)"
      ]
     },
     "execution_count": 32,
     "metadata": {},
     "output_type": "execute_result"
    }
   ],
   "source": [
    "df.shape"
   ]
  },
  {
   "cell_type": "markdown",
   "id": "03ba3369-64a6-4e85-a9a5-b5cf7cc4c0cf",
   "metadata": {},
   "source": [
    "### Rename columns"
   ]
  },
  {
   "cell_type": "code",
   "execution_count": 35,
   "id": "a66f0b1a-db5a-4043-8a4d-a03ec73ffc1f",
   "metadata": {},
   "outputs": [],
   "source": [
    "df = df.rename(columns ={'Year of event':'year',\n",
    "                         'Event dates':'race_day',\n",
    "                         'Event name':'race_name',\n",
    "                         'Event distance/length':'race_distance/length',\n",
    "                         'Event number of finishers':'num_of_finishers',\n",
    "                         'Athlete performance':'athlete_performance',\n",
    "                         'Athlete country':'athlete_country',\n",
    "                         'Athlete gender':'gender',\n",
    "                         'Athlete average speed':'ave_speed',\n",
    "                         'Athlete ID':'ID'                                                                                                                                     \n",
    "})"
   ]
  },
  {
   "cell_type": "code",
   "execution_count": 37,
   "id": "2d0c0e64-a0cb-41a5-84dd-ad494f89249d",
   "metadata": {},
   "outputs": [
    {
     "data": {
      "text/html": [
       "<div>\n",
       "<style scoped>\n",
       "    .dataframe tbody tr th:only-of-type {\n",
       "        vertical-align: middle;\n",
       "    }\n",
       "\n",
       "    .dataframe tbody tr th {\n",
       "        vertical-align: top;\n",
       "    }\n",
       "\n",
       "    .dataframe thead th {\n",
       "        text-align: right;\n",
       "    }\n",
       "</style>\n",
       "<table border=\"1\" class=\"dataframe\">\n",
       "  <thead>\n",
       "    <tr style=\"text-align: right;\">\n",
       "      <th></th>\n",
       "      <th>year</th>\n",
       "      <th>race_day</th>\n",
       "      <th>race_name</th>\n",
       "      <th>race_distance/length</th>\n",
       "      <th>num_of_finishers</th>\n",
       "      <th>athlete_performance</th>\n",
       "      <th>athlete_country</th>\n",
       "      <th>gender</th>\n",
       "      <th>ave_speed</th>\n",
       "      <th>ID</th>\n",
       "      <th>athlete_age</th>\n",
       "    </tr>\n",
       "  </thead>\n",
       "  <tbody>\n",
       "    <tr>\n",
       "      <th>0</th>\n",
       "      <td>2018</td>\n",
       "      <td>2018-01-06</td>\n",
       "      <td>Selva Costera (CHI)</td>\n",
       "      <td>50km</td>\n",
       "      <td>22</td>\n",
       "      <td>4:51:39 h</td>\n",
       "      <td>CHI</td>\n",
       "      <td>M</td>\n",
       "      <td>10.286</td>\n",
       "      <td>0</td>\n",
       "      <td>40</td>\n",
       "    </tr>\n",
       "    <tr>\n",
       "      <th>1</th>\n",
       "      <td>2018</td>\n",
       "      <td>2018-01-06</td>\n",
       "      <td>Selva Costera (CHI)</td>\n",
       "      <td>50km</td>\n",
       "      <td>22</td>\n",
       "      <td>5:15:45 h</td>\n",
       "      <td>CHI</td>\n",
       "      <td>M</td>\n",
       "      <td>9.501</td>\n",
       "      <td>1</td>\n",
       "      <td>37</td>\n",
       "    </tr>\n",
       "    <tr>\n",
       "      <th>2</th>\n",
       "      <td>2018</td>\n",
       "      <td>2018-01-06</td>\n",
       "      <td>Selva Costera (CHI)</td>\n",
       "      <td>50km</td>\n",
       "      <td>22</td>\n",
       "      <td>5:16:44 h</td>\n",
       "      <td>CHI</td>\n",
       "      <td>M</td>\n",
       "      <td>9.472</td>\n",
       "      <td>2</td>\n",
       "      <td>31</td>\n",
       "    </tr>\n",
       "    <tr>\n",
       "      <th>3</th>\n",
       "      <td>2018</td>\n",
       "      <td>2018-01-06</td>\n",
       "      <td>Selva Costera (CHI)</td>\n",
       "      <td>50km</td>\n",
       "      <td>22</td>\n",
       "      <td>5:34:13 h</td>\n",
       "      <td>ARG</td>\n",
       "      <td>M</td>\n",
       "      <td>8.976</td>\n",
       "      <td>3</td>\n",
       "      <td>42</td>\n",
       "    </tr>\n",
       "    <tr>\n",
       "      <th>4</th>\n",
       "      <td>2018</td>\n",
       "      <td>2018-01-06</td>\n",
       "      <td>Selva Costera (CHI)</td>\n",
       "      <td>50km</td>\n",
       "      <td>22</td>\n",
       "      <td>5:54:14 h</td>\n",
       "      <td>CHI</td>\n",
       "      <td>M</td>\n",
       "      <td>8.469</td>\n",
       "      <td>4</td>\n",
       "      <td>26</td>\n",
       "    </tr>\n",
       "  </tbody>\n",
       "</table>\n",
       "</div>"
      ],
      "text/plain": [
       "   year   race_day            race_name race_distance/length  \\\n",
       "0  2018 2018-01-06  Selva Costera (CHI)                 50km   \n",
       "1  2018 2018-01-06  Selva Costera (CHI)                 50km   \n",
       "2  2018 2018-01-06  Selva Costera (CHI)                 50km   \n",
       "3  2018 2018-01-06  Selva Costera (CHI)                 50km   \n",
       "4  2018 2018-01-06  Selva Costera (CHI)                 50km   \n",
       "\n",
       "   num_of_finishers athlete_performance athlete_country gender  ave_speed  ID  \\\n",
       "0                22           4:51:39 h             CHI      M     10.286   0   \n",
       "1                22           5:15:45 h             CHI      M      9.501   1   \n",
       "2                22           5:16:44 h             CHI      M      9.472   2   \n",
       "3                22           5:34:13 h             ARG      M      8.976   3   \n",
       "4                22           5:54:14 h             CHI      M      8.469   4   \n",
       "\n",
       "   athlete_age  \n",
       "0           40  \n",
       "1           37  \n",
       "2           31  \n",
       "3           42  \n",
       "4           26  "
      ]
     },
     "execution_count": 37,
     "metadata": {},
     "output_type": "execute_result"
    }
   ],
   "source": [
    "df.head()"
   ]
  },
  {
   "cell_type": "markdown",
   "id": "5a11f19c-fb3e-4754-b9a1-4f61fc98f9d2",
   "metadata": {},
   "source": [
    "### Reorder columns"
   ]
  },
  {
   "cell_type": "code",
   "execution_count": 39,
   "id": "79f598f0-524a-46cb-a88a-04278516140c",
   "metadata": {},
   "outputs": [],
   "source": [
    "new_order = ['race_day','year','race_name','race_distance/length','num_of_finishers',\n",
    "             'ID','gender','athlete_country','athlete_age','athlete_performance','ave_speed']\n",
    "df = df[new_order]"
   ]
  },
  {
   "cell_type": "code",
   "execution_count": 41,
   "id": "1c6faaec-aa9b-4472-b76e-839f892502bc",
   "metadata": {},
   "outputs": [
    {
     "data": {
      "text/html": [
       "<div>\n",
       "<style scoped>\n",
       "    .dataframe tbody tr th:only-of-type {\n",
       "        vertical-align: middle;\n",
       "    }\n",
       "\n",
       "    .dataframe tbody tr th {\n",
       "        vertical-align: top;\n",
       "    }\n",
       "\n",
       "    .dataframe thead th {\n",
       "        text-align: right;\n",
       "    }\n",
       "</style>\n",
       "<table border=\"1\" class=\"dataframe\">\n",
       "  <thead>\n",
       "    <tr style=\"text-align: right;\">\n",
       "      <th></th>\n",
       "      <th>race_day</th>\n",
       "      <th>year</th>\n",
       "      <th>race_name</th>\n",
       "      <th>race_distance/length</th>\n",
       "      <th>num_of_finishers</th>\n",
       "      <th>ID</th>\n",
       "      <th>gender</th>\n",
       "      <th>athlete_country</th>\n",
       "      <th>athlete_age</th>\n",
       "      <th>athlete_performance</th>\n",
       "      <th>ave_speed</th>\n",
       "    </tr>\n",
       "  </thead>\n",
       "  <tbody>\n",
       "    <tr>\n",
       "      <th>0</th>\n",
       "      <td>2018-01-06</td>\n",
       "      <td>2018</td>\n",
       "      <td>Selva Costera (CHI)</td>\n",
       "      <td>50km</td>\n",
       "      <td>22</td>\n",
       "      <td>0</td>\n",
       "      <td>M</td>\n",
       "      <td>CHI</td>\n",
       "      <td>40</td>\n",
       "      <td>4:51:39 h</td>\n",
       "      <td>10.286</td>\n",
       "    </tr>\n",
       "    <tr>\n",
       "      <th>1</th>\n",
       "      <td>2018-01-06</td>\n",
       "      <td>2018</td>\n",
       "      <td>Selva Costera (CHI)</td>\n",
       "      <td>50km</td>\n",
       "      <td>22</td>\n",
       "      <td>1</td>\n",
       "      <td>M</td>\n",
       "      <td>CHI</td>\n",
       "      <td>37</td>\n",
       "      <td>5:15:45 h</td>\n",
       "      <td>9.501</td>\n",
       "    </tr>\n",
       "    <tr>\n",
       "      <th>2</th>\n",
       "      <td>2018-01-06</td>\n",
       "      <td>2018</td>\n",
       "      <td>Selva Costera (CHI)</td>\n",
       "      <td>50km</td>\n",
       "      <td>22</td>\n",
       "      <td>2</td>\n",
       "      <td>M</td>\n",
       "      <td>CHI</td>\n",
       "      <td>31</td>\n",
       "      <td>5:16:44 h</td>\n",
       "      <td>9.472</td>\n",
       "    </tr>\n",
       "    <tr>\n",
       "      <th>3</th>\n",
       "      <td>2018-01-06</td>\n",
       "      <td>2018</td>\n",
       "      <td>Selva Costera (CHI)</td>\n",
       "      <td>50km</td>\n",
       "      <td>22</td>\n",
       "      <td>3</td>\n",
       "      <td>M</td>\n",
       "      <td>ARG</td>\n",
       "      <td>42</td>\n",
       "      <td>5:34:13 h</td>\n",
       "      <td>8.976</td>\n",
       "    </tr>\n",
       "    <tr>\n",
       "      <th>4</th>\n",
       "      <td>2018-01-06</td>\n",
       "      <td>2018</td>\n",
       "      <td>Selva Costera (CHI)</td>\n",
       "      <td>50km</td>\n",
       "      <td>22</td>\n",
       "      <td>4</td>\n",
       "      <td>M</td>\n",
       "      <td>CHI</td>\n",
       "      <td>26</td>\n",
       "      <td>5:54:14 h</td>\n",
       "      <td>8.469</td>\n",
       "    </tr>\n",
       "  </tbody>\n",
       "</table>\n",
       "</div>"
      ],
      "text/plain": [
       "    race_day  year            race_name race_distance/length  \\\n",
       "0 2018-01-06  2018  Selva Costera (CHI)                 50km   \n",
       "1 2018-01-06  2018  Selva Costera (CHI)                 50km   \n",
       "2 2018-01-06  2018  Selva Costera (CHI)                 50km   \n",
       "3 2018-01-06  2018  Selva Costera (CHI)                 50km   \n",
       "4 2018-01-06  2018  Selva Costera (CHI)                 50km   \n",
       "\n",
       "   num_of_finishers  ID gender athlete_country  athlete_age  \\\n",
       "0                22   0      M             CHI           40   \n",
       "1                22   1      M             CHI           37   \n",
       "2                22   2      M             CHI           31   \n",
       "3                22   3      M             ARG           42   \n",
       "4                22   4      M             CHI           26   \n",
       "\n",
       "  athlete_performance  ave_speed  \n",
       "0           4:51:39 h     10.286  \n",
       "1           5:15:45 h      9.501  \n",
       "2           5:16:44 h      9.472  \n",
       "3           5:34:13 h      8.976  \n",
       "4           5:54:14 h      8.469  "
      ]
     },
     "execution_count": 41,
     "metadata": {},
     "output_type": "execute_result"
    }
   ],
   "source": [
    "df.head()"
   ]
  },
  {
   "cell_type": "markdown",
   "id": "a31e05a7-8acb-4cdb-bb45-5af8360ad679",
   "metadata": {},
   "source": [
    "### Save as a new CSV file"
   ]
  },
  {
   "cell_type": "code",
   "execution_count": 43,
   "id": "7d15a3fa-5fa5-4ab8-9839-9e2cd6a73158",
   "metadata": {},
   "outputs": [],
   "source": [
    "df.to_csv('race_records_cleaned.csv',index = False)"
   ]
  }
 ],
 "metadata": {
  "kernelspec": {
   "display_name": "Python 3 (ipykernel)",
   "language": "python",
   "name": "python3"
  },
  "language_info": {
   "codemirror_mode": {
    "name": "ipython",
    "version": 3
   },
   "file_extension": ".py",
   "mimetype": "text/x-python",
   "name": "python",
   "nbconvert_exporter": "python",
   "pygments_lexer": "ipython3",
   "version": "3.11.7"
  }
 },
 "nbformat": 4,
 "nbformat_minor": 5
}
